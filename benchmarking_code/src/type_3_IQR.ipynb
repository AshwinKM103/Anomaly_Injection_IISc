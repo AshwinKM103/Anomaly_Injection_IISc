{
 "cells": [
  {
   "cell_type": "code",
   "execution_count": 1,
   "id": "043a6db3",
   "metadata": {
    "papermill": {
     "duration": 1.320025,
     "end_time": "2025-03-27T00:50:33.761759",
     "exception": false,
     "start_time": "2025-03-27T00:50:32.441734",
     "status": "completed"
    },
    "tags": []
   },
   "outputs": [],
   "source": [
    "\n",
    "import numpy as np # linear algebra\n",
    "import pandas as pd # data processing, CSV file I/O (e.g. pd.read_csv)\n",
    "import time\n",
    "import os"
   ]
  },
  {
   "cell_type": "code",
   "execution_count": 2,
   "id": "c7220ea9",
   "metadata": {
    "papermill": {
     "duration": 1.456497,
     "end_time": "2025-03-27T00:50:54.261947",
     "exception": false,
     "start_time": "2025-03-27T00:50:52.805450",
     "status": "completed"
    },
    "tags": []
   },
   "outputs": [],
   "source": [
    "from sklearn.metrics import f1_score,precision_score,recall_score\n",
    "from sklearn.preprocessing import StandardScaler"
   ]
  },
  {
   "cell_type": "code",
   "execution_count": 3,
   "id": "ffb31c41",
   "metadata": {
    "papermill": {
     "duration": 0.011605,
     "end_time": "2025-03-27T00:50:54.278931",
     "exception": false,
     "start_time": "2025-03-27T00:50:54.267326",
     "status": "completed"
    },
    "tags": []
   },
   "outputs": [],
   "source": [
    "seed=42\n",
    "import joblib"
   ]
  },
  {
   "cell_type": "code",
   "execution_count": 4,
   "id": "c93dbc6e",
   "metadata": {
    "papermill": {
     "duration": 0.01214,
     "end_time": "2025-03-27T00:50:54.296275",
     "exception": false,
     "start_time": "2025-03-27T00:50:54.284135",
     "status": "completed"
    },
    "tags": []
   },
   "outputs": [],
   "source": [
    "def calculate_quartiles_and_iqr(values):\n",
    "    q1 = np.percentile(values, 25)\n",
    "    q3 = np.percentile(values, 75)\n",
    "    \n",
    "    # Calculate IQR\n",
    "    iqr = q3 - q1\n",
    "    \n",
    "    return q1,q3,iqr"
   ]
  },
  {
   "cell_type": "code",
   "execution_count": 5,
   "id": "99be7e76-875b-40ce-97af-674932ea90f7",
   "metadata": {},
   "outputs": [],
   "source": [
    "PATH='OUTPUT/MODIFIED_TYPE_3'\n",
    "all_files=os.listdir(PATH)\n",
    "files=[]\n",
    "for f in all_files:\n",
    "    if f.endswith('csv'):\n",
    "        files.append(f)\n",
    "all_files=files\n",
    "anomaly_type=3"
   ]
  },
  {
   "cell_type": "code",
   "execution_count": 6,
   "id": "f3f565f8",
   "metadata": {
    "papermill": {
     "duration": 13.496567,
     "end_time": "2025-03-27T00:51:07.798135",
     "exception": false,
     "start_time": "2025-03-27T00:50:54.301568",
     "status": "completed"
    },
    "tags": []
   },
   "outputs": [],
   "source": [
    "f1_scores = []\n",
    "prec_scores=[]\n",
    "recall_scores=[]\n",
    "for fi in all_files:\n",
    "    bid = fi.split('_')[0]\n",
    "    path = PATH+'/'+fi\n",
    "    building = pd.read_csv(path)\n",
    "    if 'modified' not in building.columns:\n",
    "        print('building id:',bid)\n",
    "        print('No modified data')\n",
    "        continue\n",
    "    X_train=building['modified']\n",
    "    y_train = building['labels'].values\n",
    "    y_train=np.where(y_train != 0,1,0)\n",
    "    \n",
    "    if np.sum(y_train)==0:\n",
    "        print('building id:',bid)\n",
    "        print('Number of anomalies:',np.sum(y_train))\n",
    "        print('Number of normal:',len(y_train)-np.sum(y_train))\n",
    "    \n",
    "    scaler=StandardScaler()\n",
    "    X_train=scaler.fit_transform(pd.DataFrame(X_train))\n",
    "    ind_best_f1=0\n",
    "    q1,q3,iqr=calculate_quartiles_and_iqr(X_train)\n",
    "    for K in range(5,45,5):\n",
    "        K/=10 #0.5,1,1.5,2,...\n",
    "        low=q1-K*iqr\n",
    "        high=q3+K*iqr\n",
    "        y_pred=np.zeros(len(y_train))\n",
    "        bool_array= (X_train>high) | (X_train<low)\n",
    "        bool_array=bool_array.reshape(-1)\n",
    "        y_pred[bool_array]=1\n",
    "        \n",
    "        score_f1=f1_score(y_train,y_pred, zero_division=0)\n",
    "\n",
    "        if score_f1> ind_best_f1:\n",
    "            score_prec=precision_score(y_train,y_pred, zero_division=0)\n",
    "            score_recall=recall_score(y_train,y_pred, zero_division=0)\n",
    "            ind_best_f1=score_f1\n",
    "            ind_best_prec=score_prec\n",
    "            ind_best_recall=score_recall\n",
    "    f1_scores.append(ind_best_f1)\n",
    "    prec_scores.append(ind_best_prec)\n",
    "    recall_scores.append(ind_best_recall)"
   ]
  },
  {
   "cell_type": "code",
   "execution_count": 7,
   "id": "0351b135",
   "metadata": {
    "papermill": {
     "duration": 0.012713,
     "end_time": "2025-03-27T00:51:07.869650",
     "exception": false,
     "start_time": "2025-03-27T00:51:07.856937",
     "status": "completed"
    },
    "tags": []
   },
   "outputs": [
    {
     "name": "stdout",
     "output_type": "stream",
     "text": [
      "0.7077791243095065\n"
     ]
    }
   ],
   "source": [
    "print(np.mean(f1_scores))"
   ]
  },
  {
   "cell_type": "code",
   "execution_count": 8,
   "id": "7aa687b5",
   "metadata": {
    "papermill": {
     "duration": 0.012784,
     "end_time": "2025-03-27T00:51:07.888039",
     "exception": false,
     "start_time": "2025-03-27T00:51:07.875255",
     "status": "completed"
    },
    "scrolled": true,
    "tags": []
   },
   "outputs": [
    {
     "name": "stdout",
     "output_type": "stream",
     "text": [
      "0.7516151057378723\n"
     ]
    }
   ],
   "source": [
    "print(np.mean(prec_scores))"
   ]
  },
  {
   "cell_type": "code",
   "execution_count": 9,
   "id": "ca8629e1",
   "metadata": {
    "papermill": {
     "duration": 0.013302,
     "end_time": "2025-03-27T00:51:07.906999",
     "exception": false,
     "start_time": "2025-03-27T00:51:07.893697",
     "status": "completed"
    },
    "tags": []
   },
   "outputs": [
    {
     "name": "stdout",
     "output_type": "stream",
     "text": [
      "0.7537931066625216\n"
     ]
    }
   ],
   "source": [
    "print(np.mean(recall_scores))"
   ]
  },
  {
   "cell_type": "code",
   "execution_count": 10,
   "id": "1f9047f8",
   "metadata": {
    "papermill": {
     "duration": 0.00531,
     "end_time": "2025-03-27T00:51:07.918401",
     "exception": false,
     "start_time": "2025-03-27T00:51:07.913091",
     "status": "completed"
    },
    "tags": []
   },
   "outputs": [],
   "source": [
    "import matplotlib.pyplot as plt\n"
   ]
  },
  {
   "cell_type": "code",
   "execution_count": 11,
   "id": "af54af53-d539-421c-85b4-064be162bbb6",
   "metadata": {},
   "outputs": [
    {
     "data": {
      "image/png": "[encoded data removed]",
      "text/plain": [
       "<Figure size 500x600 with 1 Axes>"
      ]
     },
     "metadata": {},
     "output_type": "display_data"
    }
   ],
   "source": [
    "fig,ax=plt.subplots(figsize=(5,6))\n",
    "ax.boxplot(f1_scores,patch_artist = True,\n",
    "                notch =False, vert = 0)\n",
    "ax.set_title(\"IQR (F1 scores)\")\n",
    "fig.savefig(f\"type_{anomaly_type}_IQR.png\")"
   ]
  },
  {
   "cell_type": "code",
   "execution_count": 12,
   "id": "776d2b1f-b326-4d6c-bea7-976c22abc56c",
   "metadata": {},
   "outputs": [],
   "source": [
    "f1_score_dict={}\n",
    "for idx,fi in enumerate(all_files):\n",
    "    bid=int(fi.split(\"_\")[0])\n",
    "    f=f1_scores[idx]\n",
    "    f1_score_dict[bid]=f"
   ]
  },
  {
   "cell_type": "code",
   "execution_count": 13,
   "id": "b4ba67f1-0e32-4646-9084-6deb5db9f6d2",
   "metadata": {},
   "outputs": [
    {
     "data": {
      "text/plain": [
       "['OUTPUT/SCORES/IQR_type_3_f1_scores.pkl']"
      ]
     },
     "execution_count": 13,
     "metadata": {},
     "output_type": "execute_result"
    }
   ],
   "source": [
    "joblib.dump(f1_score_dict,f\"OUTPUT/SCORES/IQR_type_{anomaly_type}_f1_scores.pkl\")"
   ]
  },
  {
   "cell_type": "code",
   "execution_count": null,
   "id": "feec0460-bc80-44d3-9d00-ae839d7c36cf",
   "metadata": {},
   "outputs": [],
   "source": []
  }
 ],
 "metadata": {
  "kaggle": {
   "accelerator": "none",
   "dataSources": [
    {
     "datasetId": 5854337,
     "sourceId": 9597044,
     "sourceType": "datasetVersion"
    },
    {
     "datasetId": 6831427,
     "sourceId": 10978009,
     "sourceType": "datasetVersion"
    }
   ],
   "dockerImageVersionId": 30918,
   "isGpuEnabled": false,
   "isInternetEnabled": true,
   "language": "python",
   "sourceType": "notebook"
  },
  "kernelspec": {
   "display_name": "decision-transformer-gym-py39",
   "language": "python",
   "name": "python3"
  },
  "language_info": {
   "codemirror_mode": {
    "name": "ipython",
    "version": 3
   },
   "file_extension": ".py",
   "mimetype": "text/x-python",
   "name": "python",
   "nbconvert_exporter": "python",
   "pygments_lexer": "ipython3",
   "version": "3.9.21"
  },
  "papermill": {
   "default_parameters": {},
   "duration": 38.982321,
   "end_time": "2025-03-27T00:51:08.644565",
   "environment_variables": {},
   "exception": null,
   "input_path": "__notebook__.ipynb",
   "output_path": "__notebook__.ipynb",
   "parameters": {},
   "start_time": "2025-03-27T00:50:29.662244",
   "version": "2.6.0"
  }
 },
 "nbformat": 4,
 "nbformat_minor": 5
}
