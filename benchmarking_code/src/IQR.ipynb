{
 "cells": [
  {
   "cell_type": "code",
   "execution_count": 2,
   "id": "85e8cf2a",
   "metadata": {},
   "outputs": [],
   "source": [
    "import os\n",
    "import numpy as np\n",
    "import pandas as pd\n",
    "from sklearn.preprocessing import StandardScaler\n",
    "from sklearn.metrics import f1_score, precision_score, recall_score\n",
    "from typing import List, Tuple\n",
    "from tqdm import tqdm\n",
    "import matplotlib.pyplot as plt\n"
   ]
  },
  {
   "cell_type": "code",
   "execution_count": 3,
   "id": "b43cf5d2",
   "metadata": {},
   "outputs": [],
   "source": [
    "def calculate_quartiles_and_iqr(values):\n",
    "    \"\"\"\n",
    "    Calculate the first quartile (Q1), third quartile (Q3), and the interquartile range (IQR)\n",
    "    for a given numeric dataset.\n",
    "\n",
    "    The interquartile range is a measure of statistical dispersion and is defined as:\n",
    "        IQR = Q3 - Q1\n",
    "\n",
    "    This function is commonly used for:\n",
    "    - Outlier detection (e.g., using 1.5×IQR rule)\n",
    "    - Summarizing the spread of non-normally distributed data\n",
    "    - Robust descriptive statistics unaffected by extreme values\n",
    "\n",
    "    Parameters\n",
    "    ----------\n",
    "    values : array-like (list, np.ndarray, or pd.Series)\n",
    "        A 1D array of numerical values. Must not contain NaNs or missing entries.\n",
    "\n",
    "    Returns\n",
    "    -------\n",
    "    tuple of floats\n",
    "        - Q1 (25th percentile)\n",
    "        - Q3 (75th percentile)\n",
    "        - IQR (Q3 - Q1)\n",
    "\n",
    "    Example\n",
    "    -------\n",
    "    >>> data = [10, 15, 18, 21, 30, 42, 55]\n",
    "    >>> q1, q3, iqr = calculate_quartiles_and_iqr(data)\n",
    "    >>> print(f\"Q1={q1}, Q3={q3}, IQR={iqr}\")\n",
    "\n",
    "    Notes\n",
    "    -----\n",
    "    - Uses NumPy's `percentile()` function with default linear interpolation.\n",
    "    - If input contains NaNs, use `np.nanpercentile()` instead.\n",
    "    \"\"\"\n",
    "\n",
    "    # Compute the 25th percentile (first quartile)\n",
    "    q1 = np.percentile(values, 25)\n",
    "\n",
    "    # Compute the 75th percentile (third quartile)\n",
    "    q3 = np.percentile(values, 75)\n",
    "\n",
    "    # Interquartile range is the spread between Q3 and Q1\n",
    "    iqr = q3 - q1\n",
    "\n",
    "    return q1, q3, iqr"
   ]
  },
  {
   "cell_type": "code",
   "execution_count": 5,
   "id": "01194d6c",
   "metadata": {},
   "outputs": [],
   "source": [
    "def evaluate_anomaly_detection_iqr(\n",
    "    all_files: List[str],\n",
    "    path: str,\n",
    "    anomaly_type: int = 2,\n",
    "    k_range: Tuple[float, float, float] = (0.5, 4.0, 0.5)\n",
    ") -> pd.DataFrame:\n",
    "    \"\"\"\n",
    "    Evaluate anomaly detection using IQR thresholding on modified time series data.\n",
    "\n",
    "    For each file, the function:\n",
    "    - Loads the data (expects 'modified' and 'labels' columns),\n",
    "    - Scales the series using StandardScaler,\n",
    "    - Computes Q1, Q3, and IQR on the scaled data,\n",
    "    - Iteratively evaluates different IQR thresholds to maximize F1-score,\n",
    "    - Stores and returns the best F1, precision, and recall scores per building.\n",
    "\n",
    "    Parameters\n",
    "    ----------\n",
    "    all_files : List[str]\n",
    "        List of CSV filenames (one per building) to evaluate.\n",
    "    path : str\n",
    "        Directory path where the files are located.\n",
    "    anomaly_type : int, default 2\n",
    "        The label value considered anomalous. Others are treated as normal (0).\n",
    "    k_range : Tuple[float, float, float], default (0.5, 4.0, 0.5)\n",
    "        Start, stop, and step size for the IQR multiplier K.\n",
    "\n",
    "    Returns\n",
    "    -------\n",
    "    pd.DataFrame\n",
    "        DataFrame with per-building metrics: F1-score, precision, and recall.\n",
    "\n",
    "    Example\n",
    "    -------\n",
    "    >>> df_scores = evaluate_anomaly_detection_iqr(all_files, \"OUTPUT/MODIFIED\", anomaly_type=2)\n",
    "    >>> print(df_scores.head())\n",
    "\n",
    "    Notes\n",
    "    -----\n",
    "    - This method does NOT perform imputation or handle missing values beyond dropping them.\n",
    "    - It assumes 'modified' is a numeric feature and 'labels' contains ground-truth anomaly labels.\n",
    "    \"\"\"\n",
    "    results = []\n",
    "\n",
    "    for file in tqdm(all_files, desc=\"Evaluating anomaly detection\"):\n",
    "        # Load building data\n",
    "        building = pd.read_csv(os.path.join(path, file))\n",
    "        X = building['modified']\n",
    "        y = np.where(building['labels'].values == anomaly_type, 1, 0)\n",
    "\n",
    "        # Drop NaNs if any (imputation is left to upstream)\n",
    "        X = pd.DataFrame(X).dropna()\n",
    "        y = y[:len(X)]  # align labels\n",
    "\n",
    "        # Scale the feature\n",
    "        scaler = StandardScaler()\n",
    "        X_scaled = scaler.fit_transform(X)\n",
    "\n",
    "        # Compute IQR components\n",
    "        q1, q3, iqr = calculate_quartiles_and_iqr(X_scaled)\n",
    "\n",
    "        # Search for best K (IQR multiplier)\n",
    "        best_f1 = 0\n",
    "        best_prec = 0\n",
    "        best_rec = 0\n",
    "\n",
    "        for K in np.arange(*k_range):\n",
    "            low, high = q1 - K * iqr, q3 + K * iqr\n",
    "            y_pred = np.where((X_scaled < low) | (X_scaled > high), 1, 0)\n",
    "\n",
    "            f1 = f1_score(y, y_pred)\n",
    "            if f1 > best_f1:\n",
    "                best_f1 = f1\n",
    "                best_prec = precision_score(y, y_pred)\n",
    "                best_rec = recall_score(y, y_pred)\n",
    "\n",
    "        building_id = int(file.split(\"_\")[0])\n",
    "        results.append({\n",
    "            \"building_id\": building_id,\n",
    "            \"F1_score\": best_f1,\n",
    "            \"Precision\": best_prec,\n",
    "            \"Recall\": best_rec\n",
    "        })\n",
    "\n",
    "    score_df = pd.DataFrame(results).sort_values(\"building_id\").reset_index(drop=True)\n",
    "    print(\"\\n=== Overall Performance Summary ===\")\n",
    "    print(score_df.describe().loc[[\"mean\", \"std\", \"min\", \"max\"]])\n",
    "\n",
    "    return score_df\n"
   ]
  },
  {
   "cell_type": "code",
   "execution_count": 11,
   "id": "f2066634",
   "metadata": {},
   "outputs": [
    {
     "name": "stderr",
     "output_type": "stream",
     "text": [
      "Evaluating anomaly detection: 100%|██████████| 1553/1553 [01:49<00:00, 14.18it/s]"
     ]
    },
    {
     "name": "stdout",
     "output_type": "stream",
     "text": [
      "\n",
      "=== Overall Performance Summary ===\n",
      "      building_id  F1_score  Precision    Recall\n",
      "mean   791.249839  0.554051   0.773902  0.474923\n",
      "std    456.046328  0.199831   0.256585  0.189163\n",
      "min      1.000000  0.065344   0.038374  0.092834\n",
      "max   1578.000000  0.980048   1.000000  1.000000\n",
      "   building_id  F1_score  Precision    Recall\n",
      "0            1  0.517007   0.850746  0.371336\n",
      "1            2  0.623318   1.000000  0.452769\n",
      "2            3  0.767045   0.978261  0.630841\n",
      "3            4  0.473563   0.622356  0.382189\n",
      "4            5  0.580791   0.948339  0.418567\n"
     ]
    },
    {
     "name": "stderr",
     "output_type": "stream",
     "text": [
      "\n"
     ]
    }
   ],
   "source": [
    "# Define your configuration\n",
    "path = \"/data1/home/nitinvetcha/Ashwin_KM_Code/tsfm_learning/Anomaly_Injection_IISc/injection_code/src/OUTPUT_BDG2/MODIFIED/TYPE4\"\n",
    "injected_files = [f for f in os.listdir(path) if f.endswith(\".csv\")]\n",
    "anomaly_type = 4\n",
    "\n",
    "# Run evaluation\n",
    "score_df = evaluate_anomaly_detection_iqr(\n",
    "    all_files=injected_files,\n",
    "    path=path,\n",
    "    anomaly_type=anomaly_type,\n",
    "    k_range=(0.5, 4.5, 0.5)  # optional: adjust this range as needed\n",
    ")\n",
    "\n",
    "# View and optionally save the result\n",
    "print(score_df.head())\n",
    "score_df.to_csv(f\"bdg2_iqr_statistics/iqr_evaluation_type_{anomaly_type}.csv\", index=False)"
   ]
  },
  {
   "cell_type": "code",
   "execution_count": 12,
   "id": "46320687",
   "metadata": {},
   "outputs": [
    {
     "name": "stdout",
     "output_type": "stream",
     "text": [
      "Median F1 score across all buildings: 0.5831\n",
      "Median Recall across all buildings: 0.4511\n",
      "Median Precision across all buildings: 0.8678\n"
     ]
    }
   ],
   "source": [
    "# Median of F1 scores\n",
    "median_f1 = score_df['F1_score'].median()\n",
    "print(f\"Median F1 score across all buildings: {median_f1:.4f}\")\n",
    "median_recall = score_df['Recall'].median()\n",
    "print(f\"Median Recall across all buildings: {median_recall:.4f}\")\n",
    "# Median Precision\n",
    "median_precision = score_df['Precision'].median()\n",
    "print(f\"Median Precision across all buildings: {median_precision:.4f}\")"
   ]
  },
  {
   "cell_type": "code",
   "execution_count": 13,
   "id": "5d56f242",
   "metadata": {},
   "outputs": [
    {
     "data": {
      "image/png": "[encoded data removed]",
      "text/plain": [
       "<Figure size 1000x600 with 1 Axes>"
      ]
     },
     "metadata": {},
     "output_type": "display_data"
    }
   ],
   "source": [
    "f1_scores = score_df['F1_score']\n",
    "recall_scores = score_df['Recall']\n",
    "precision_scores = score_df['Precision']\n",
    "# Plotting the scores\n",
    "# Prepare a DataFrame for boxplotting\n",
    "import seaborn as sns\n",
    "\n",
    "data = pd.DataFrame({\n",
    "    \"F1 Score\": f1_scores,\n",
    "    \"Precision\": precision_scores,\n",
    "    \"Recall\": recall_scores\n",
    "})\n",
    "\n",
    "# Melt the DataFrame for seaborn\n",
    "data_melted = data.melt(var_name=\"Metric\", value_name=\"Score\")\n",
    "\n",
    "# Plot\n",
    "plt.figure(figsize=(10, 6))\n",
    "sns.boxplot(data=data_melted, x=\"Metric\", y=\"Score\", palette=\"Set2\")\n",
    "plt.title(\"Distribution of F1 Score, Precision, and Recall\")\n",
    "plt.grid(True, linestyle='--', alpha=0.6)\n",
    "plt.tight_layout()\n",
    "plt.savefig(f\"bdg2_iqr_plots/anomaly_detection_boxplots_for_type_{anomaly_type}.png\")\n",
    "plt.show()"
   ]
  },
  {
   "cell_type": "code",
   "execution_count": null,
   "id": "9c61b278",
   "metadata": {},
   "outputs": [],
   "source": []
  }
 ],
 "metadata": {
  "kernelspec": {
   "display_name": "tsfm_anomaly",
   "language": "python",
   "name": "python3"
  },
  "language_info": {
   "codemirror_mode": {
    "name": "ipython",
    "version": 3
   },
   "file_extension": ".py",
   "mimetype": "text/x-python",
   "name": "python",
   "nbconvert_exporter": "python",
   "pygments_lexer": "ipython3",
   "version": "3.10.16"
  }
 },
 "nbformat": 4,
 "nbformat_minor": 5
}
