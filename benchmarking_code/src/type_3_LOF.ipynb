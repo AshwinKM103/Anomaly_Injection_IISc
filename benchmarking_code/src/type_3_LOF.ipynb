{
 "cells": [
  {
   "cell_type": "code",
   "execution_count": 7,
   "id": "374bd68d",
   "metadata": {
    "papermill": {
     "duration": 1.35063,
     "end_time": "2025-03-27T00:53:34.926658",
     "exception": false,
     "start_time": "2025-03-27T00:53:33.576028",
     "status": "completed"
    },
    "tags": []
   },
   "outputs": [],
   "source": [
    "\n",
    "\n",
    "import numpy as np # linear algebra\n",
    "import pandas as pd # data processing, CSV file I/O (e.g. pd.read_csv)\n",
    "import time\n",
    "\n",
    "import os\n",
    "import joblib"
   ]
  },
  {
   "cell_type": "code",
   "execution_count": 8,
   "id": "b39d1341",
   "metadata": {
    "papermill": {
     "duration": 1.688095,
     "end_time": "2025-03-27T00:53:54.728978",
     "exception": false,
     "start_time": "2025-03-27T00:53:53.040883",
     "status": "completed"
    },
    "tags": []
   },
   "outputs": [],
   "source": [
    "from sklearn.neighbors import LocalOutlierFactor\n",
    "from sklearn.metrics import f1_score,precision_score,recall_score\n",
    "from sklearn.model_selection import KFold\n",
    "from sklearn.preprocessing import StandardScaler"
   ]
  },
  {
   "cell_type": "code",
   "execution_count": 9,
   "id": "db1f8526",
   "metadata": {
    "papermill": {
     "duration": 0.012036,
     "end_time": "2025-03-27T00:53:54.745919",
     "exception": false,
     "start_time": "2025-03-27T00:53:54.733883",
     "status": "completed"
    },
    "tags": []
   },
   "outputs": [],
   "source": [
    "seed=42\n"
   ]
  },
  {
   "cell_type": "code",
   "execution_count": 10,
   "id": "7d0e0878",
   "metadata": {
    "papermill": {
     "duration": 0.011833,
     "end_time": "2025-03-27T00:53:54.762675",
     "exception": false,
     "start_time": "2025-03-27T00:53:54.750842",
     "status": "completed"
    },
    "tags": []
   },
   "outputs": [],
   "source": [
    "best_params={'n_neighbors': 1000, \n",
    "             'algorithm': 'brute', \n",
    "             'leaf_size': 458, \n",
    "             'metric': 'minkowski', \n",
    "             'p': 48, \n",
    "             'contamination': 0.019012254771883536, \n",
    "             'novelty': False}\n",
    "\n"
   ]
  },
  {
   "cell_type": "code",
   "execution_count": 11,
   "id": "6371fe1c-2d6a-4062-9027-7a23a0efe5e6",
   "metadata": {},
   "outputs": [],
   "source": [
    "PATH='OUTPUT/MODIFIED_TYPE_3'\n",
    "all_files=os.listdir(PATH)\n",
    "files=[]\n",
    "for f in all_files:\n",
    "    if f.endswith('csv'):\n",
    "        files.append(f)\n",
    "all_files=files\n",
    "anomaly_type=3"
   ]
  },
  {
   "cell_type": "code",
   "execution_count": null,
   "id": "01648e47",
   "metadata": {
    "papermill": {
     "duration": 6341.418024,
     "end_time": "2025-03-27T02:39:36.185994",
     "exception": false,
     "start_time": "2025-03-27T00:53:54.767970",
     "status": "completed"
    },
    "tags": []
   },
   "outputs": [
    {
     "name": "stdout",
     "output_type": "stream",
     "text": [
      "0.8975155279503106\t0.8888888888888891\t0.926605504587156\t0.6925925925925925\t0.9359430604982206\t0.7864077669902912\t0.8417266187050361\t0.28018679119412937\t0.9036885245901639\t0.9233082706766917\t0.774869109947644\t0.962962962962963\t0.9373776908023483\t0.978723404255319\t0.9887323943661972\t0.974169741697417\t0.8875912408759123\t0.6402486402486403\t0.9191919191919192\t0.9259259259259259\t0.9232323232323232\t0.9264264264264264\t0.9795539033457249\t0.9105839416058393\t0.9315436241610738\t0.9873417721518987\t0.6642066420664207\t0.5440729483282675\t0.99203187250996\t0.510556621880998\t0.8602442333785617\t0.9229422066549913\t0\t0.9391891891891893\t0.8617363344051446\t0.8886554621848739\t0.7261324041811847\t0.12507977026164646\t0.8897576231430805\t0.6934306569343066\t0.011816838995568684\t0.9105839416058393\t0.9332146037399822\t0.6296296296296297\t0.6370716510903428\t0.8914956011730204\t0.9467541940189642\t0.8252911813643927\t0.9347536617842875\t0.9176470588235294\t0.8738317757009346\t0.8801261829652997\t0.7197802197802199\t0.9736477115117892\t0.9422818791946308\t0.8322683706070289\t0.9528487229862475\t0.698529411764706\t0.9275653923541246\t0.9831932773109243\t0.7045871559633028\t0.9873417721518987\t0.7814113597246127\t0.9607072691552062\t0.8671140939597315\t0.9856035437430787\t0\t0.9602327837051405\t0.93974175035868\t0.9079118028534372\t"
     ]
    }
   ],
   "source": [
    "f1_scores = []\n",
    "prec_scores=[]\n",
    "recall_scores=[]\n",
    "fold_scores=[]\n",
    "for fi in all_files:\n",
    "    building = pd.read_csv(PATH+'/'+fi)\n",
    "    X_train=building['modified']\n",
    "    y_train = building['labels'].values\n",
    "    y_train=np.where(y_train==anomaly_type,1,0)\n",
    "    scaler=StandardScaler()\n",
    "    X_train=scaler.fit_transform(pd.DataFrame(X_train))\n",
    "\n",
    "    ind_best_f1=0\n",
    "    for cont in range(2,6):\n",
    "        cont/=100\n",
    "        best_params['contamination']=cont\n",
    "        model = LocalOutlierFactor( **best_params)\n",
    "        y_pred=model.fit_predict(X_train)\n",
    "        y_pred=np.where(y_pred==-1,1,0)\n",
    "\n",
    "        score_f1=f1_score(y_train,y_pred, zero_division=0)\n",
    "\n",
    "        if score_f1> ind_best_f1:\n",
    "            score_prec=precision_score(y_train,y_pred, zero_division=0)\n",
    "            score_recall=recall_score(y_train,y_pred, zero_division=0)\n",
    "            ind_best_f1=score_f1\n",
    "            ind_best_prec=score_prec\n",
    "            ind_best_recall=score_recall\n",
    "    f1_scores.append(ind_best_f1)\n",
    "    prec_scores.append(ind_best_prec)\n",
    "    recall_scores.append(ind_best_recall) \n",
    "    print(ind_best_f1,end=\"\\t\")"
   ]
  },
  {
   "cell_type": "code",
   "execution_count": null,
   "id": "f1bacf19",
   "metadata": {
    "papermill": {
     "duration": 0.011845,
     "end_time": "2025-03-27T02:39:36.253465",
     "exception": false,
     "start_time": "2025-03-27T02:39:36.241620",
     "status": "completed"
    },
    "tags": []
   },
   "outputs": [
    {
     "name": "stdout",
     "output_type": "stream",
     "text": [
      "0.8189146757501379\n"
     ]
    }
   ],
   "source": [
    "print(np.mean(f1_scores))"
   ]
  },
  {
   "cell_type": "code",
   "execution_count": null,
   "id": "b32f67cc",
   "metadata": {
    "papermill": {
     "duration": 0.071046,
     "end_time": "2025-03-27T02:39:36.329772",
     "exception": false,
     "start_time": "2025-03-27T02:39:36.258726",
     "status": "completed"
    },
    "tags": []
   },
   "outputs": [
    {
     "name": "stdout",
     "output_type": "stream",
     "text": [
      "0.9076350919786381\n"
     ]
    }
   ],
   "source": [
    "print(np.mean(prec_scores))"
   ]
  },
  {
   "cell_type": "code",
   "execution_count": null,
   "id": "b37851ee",
   "metadata": {
    "papermill": {
     "duration": 0.012722,
     "end_time": "2025-03-27T02:39:36.347956",
     "exception": false,
     "start_time": "2025-03-27T02:39:36.335234",
     "status": "completed"
    },
    "tags": []
   },
   "outputs": [
    {
     "name": "stdout",
     "output_type": "stream",
     "text": [
      "0.9069843316930485\n"
     ]
    }
   ],
   "source": [
    "print(np.mean(recall_scores))"
   ]
  },
  {
   "cell_type": "code",
   "execution_count": null,
   "id": "111b1e49-81d7-41a0-81a6-57049037b0d0",
   "metadata": {},
   "outputs": [],
   "source": [
    "import matplotlib.pyplot as plt\n"
   ]
  },
  {
   "cell_type": "code",
   "execution_count": null,
   "id": "a7e2f2d7-10ce-4229-86e8-095bab7f50e2",
   "metadata": {},
   "outputs": [
    {
     "data": {
      "image/png": "[encoded data removed]",
      "text/plain": [
       "<Figure size 500x600 with 1 Axes>"
      ]
     },
     "metadata": {},
     "output_type": "display_data"
    }
   ],
   "source": [
    "fig,ax=plt.subplots(figsize=(5,6))\n",
    "ax.boxplot(f1_scores,patch_artist = True,\n",
    "                notch =False, vert = 0)\n",
    "ax.set_title(\"LOF (F1 scores)\")\n",
    "fig.savefig(f\"type_{anomaly_type}_LOF.png\")"
   ]
  },
  {
   "cell_type": "code",
   "execution_count": null,
   "id": "33f23165-d99f-4ac2-a1a8-8c7a6354d1af",
   "metadata": {},
   "outputs": [],
   "source": [
    "f1_score_dict={}\n",
    "for idx,fi in enumerate(all_files):\n",
    "    bid=int(fi.split(\"_\")[0])\n",
    "    f=f1_scores[idx]\n",
    "    f1_score_dict[bid]=f"
   ]
  },
  {
   "cell_type": "code",
   "execution_count": null,
   "id": "a72628d6-2747-4495-abe7-1c5e69bf1726",
   "metadata": {},
   "outputs": [
    {
     "data": {
      "text/plain": [
       "['OUTPUT/SCORES/LOF_type_3_f1_scores.pkl']"
      ]
     },
     "execution_count": 13,
     "metadata": {},
     "output_type": "execute_result"
    }
   ],
   "source": [
    "joblib.dump(f1_score_dict,f\"OUTPUT/SCORES/LOF_type_{anomaly_type}_f1_scores.pkl\")"
   ]
  },
  {
   "cell_type": "code",
   "execution_count": null,
   "id": "639b8144",
   "metadata": {},
   "outputs": [],
   "source": []
  }
 ],
 "metadata": {
  "kaggle": {
   "accelerator": "none",
   "dataSources": [
    {
     "datasetId": 5854337,
     "sourceId": 9597044,
     "sourceType": "datasetVersion"
    },
    {
     "datasetId": 6831427,
     "sourceId": 10978009,
     "sourceType": "datasetVersion"
    }
   ],
   "dockerImageVersionId": 30918,
   "isGpuEnabled": false,
   "isInternetEnabled": true,
   "language": "python",
   "sourceType": "notebook"
  },
  "kernelspec": {
   "display_name": "decision-transformer-gym-py39",
   "language": "python",
   "name": "python3"
  },
  "language_info": {
   "codemirror_mode": {
    "name": "ipython",
    "version": 3
   },
   "file_extension": ".py",
   "mimetype": "text/x-python",
   "name": "python",
   "nbconvert_exporter": "python",
   "pygments_lexer": "ipython3",
   "version": "3.9.21"
  },
  "papermill": {
   "default_parameters": {},
   "duration": 6366.20416,
   "end_time": "2025-03-27T02:39:37.080528",
   "environment_variables": {},
   "exception": null,
   "input_path": "__notebook__.ipynb",
   "output_path": "__notebook__.ipynb",
   "parameters": {},
   "start_time": "2025-03-27T00:53:30.876368",
   "version": "2.6.0"
  }
 },
 "nbformat": 4,
 "nbformat_minor": 5
}
