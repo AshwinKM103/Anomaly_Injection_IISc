{
 "cells": [
  {
   "cell_type": "code",
   "execution_count": 1,
   "id": "7102569d",
   "metadata": {},
   "outputs": [],
   "source": [
    "import os\n",
    "import numpy as np\n",
    "import pandas as pd\n",
    "from tqdm import tqdm\n",
    "from typing import List\n",
    "from sklearn.metrics import f1_score, precision_score, recall_score\n",
    "from sklearn.preprocessing import StandardScaler\n",
    "import matplotlib.pyplot as plt\n",
    "import seaborn as sns\n",
    "\n",
    "seed=42\n"
   ]
  },
  {
   "cell_type": "code",
   "execution_count": 2,
   "id": "150d836a",
   "metadata": {},
   "outputs": [],
   "source": [
    "def calculate_mz(values: np.ndarray) -> np.ndarray:\n",
    "    \"\"\"\n",
    "    Compute Median Z-scores (robust z-score using MAD) for anomaly detection.\n",
    "\n",
    "    Parameters\n",
    "    ----------\n",
    "    values : np.ndarray\n",
    "        1D array of input values (scaled or raw).\n",
    "\n",
    "    Returns\n",
    "    -------\n",
    "    np.ndarray\n",
    "        Array of robust z-scores for each value.\n",
    "    \"\"\"\n",
    "    median = np.median(values)\n",
    "    mid_diff = np.abs(values - median)\n",
    "    epsilon = 1e-9  # for stability\n",
    "    mad = np.median(mid_diff)\n",
    "    sigma_mad = 1.486 * mad + epsilon\n",
    "    return mid_diff / sigma_mad"
   ]
  },
  {
   "cell_type": "code",
   "execution_count": 3,
   "id": "5cb73c40",
   "metadata": {},
   "outputs": [],
   "source": [
    "def evaluate_all_buildings_mz(\n",
    "    all_files: List[str],\n",
    "    path: str,\n",
    "    anomaly_type: int,\n",
    "    z_thresholds: List[float] = None\n",
    ") -> pd.DataFrame:\n",
    "    \"\"\"\n",
    "    Evaluate Median Z-score thresholding for anomaly detection per building.\n",
    "\n",
    "    Parameters\n",
    "    ----------\n",
    "    all_files : list of str\n",
    "        List of CSV file names (modified building data).\n",
    "    path : str\n",
    "        Path to directory containing CSVs.\n",
    "    anomaly_type : int\n",
    "        Anomaly label to evaluate.\n",
    "    z_thresholds : list of float, optional\n",
    "        List of Z-score thresholds to sweep for best F1. Defaults from 0.5 to 4.0.\n",
    "\n",
    "    Returns\n",
    "    -------\n",
    "    pd.DataFrame\n",
    "        Summary DataFrame with building file name, scores and best threshold.\n",
    "    \"\"\"\n",
    "    if z_thresholds is None:\n",
    "        z_thresholds = [i / 10 for i in range(5, 45, 5)]  # 0.5 to 4.0\n",
    "\n",
    "    records = []\n",
    "\n",
    "    for file in tqdm(all_files, desc=f\"Evaluating MZ for Anomaly Type {anomaly_type}\"):\n",
    "        df = pd.read_csv(os.path.join(path, file))\n",
    "        y_true = np.where(df[\"labels\"].values == anomaly_type, 1, 0)\n",
    "        X = df[\"modified\"].values.reshape(-1, 1)\n",
    "        X_scaled = StandardScaler().fit_transform(X)\n",
    "\n",
    "        z_scores = calculate_mz(X_scaled).reshape(-1)\n",
    "\n",
    "        best_f1, best_prec, best_rec, best_thresh = 0, 0, 0, None\n",
    "\n",
    "        for thresh in z_thresholds:\n",
    "            y_pred = (z_scores > thresh).astype(int)\n",
    "            f1 = f1_score(y_true, y_pred, zero_division=0)\n",
    "            if f1 > best_f1:\n",
    "                best_f1 = f1\n",
    "                best_prec = precision_score(y_true, y_pred, zero_division=0)\n",
    "                best_rec = recall_score(y_true, y_pred, zero_division=0)\n",
    "                best_thresh = thresh\n",
    "\n",
    "        records.append({\n",
    "            \"building_file\": file,\n",
    "            \"f1_score\": best_f1,\n",
    "            \"precision\": best_prec,\n",
    "            \"recall\": best_rec,\n",
    "            \"best_threshold\": best_thresh\n",
    "        })\n",
    "\n",
    "    return pd.DataFrame(records)"
   ]
  },
  {
   "cell_type": "code",
   "execution_count": 4,
   "id": "cd163619",
   "metadata": {},
   "outputs": [],
   "source": [
    "def run_mz_evaluation_for_all_anomaly_types(\n",
    "    base_path: str,\n",
    "    anomaly_types: List[int] = [2, 3, 4],\n",
    "    output_dir: str = \"mz_scores\"\n",
    ") -> None:\n",
    "    \"\"\"\n",
    "    Run Median Z-score evaluation for all anomaly types and save summaries.\n",
    "\n",
    "    Parameters\n",
    "    ----------\n",
    "    base_path : str\n",
    "        Directory containing folders like TYPE2/, TYPE3/, etc.\n",
    "    anomaly_types : list of int\n",
    "        Anomaly types to evaluate.\n",
    "    output_dir : str\n",
    "        Where to save the evaluation result CSVs.\n",
    "    \"\"\"\n",
    "    os.makedirs(output_dir, exist_ok=True)\n",
    "\n",
    "    for anom_type in anomaly_types:\n",
    "        print(f\"\\n📏 Running MZ-score evaluation for anomaly type {anom_type}\")\n",
    "        path = os.path.join(base_path, f\"TYPE{anom_type}\")\n",
    "        files = [f for f in os.listdir(path) if f.endswith(\".csv\")]\n",
    "\n",
    "        summary = evaluate_all_buildings_mz(\n",
    "            all_files=files,\n",
    "            path=path,\n",
    "            anomaly_type=anom_type\n",
    "        )\n",
    "\n",
    "        out_path = os.path.join(output_dir, f\"mz_type{anom_type}_scores.csv\")\n",
    "        summary.to_csv(out_path, index=False)\n",
    "        print(f\"✅ Saved results to {out_path}\")"
   ]
  },
  {
   "cell_type": "code",
   "execution_count": 5,
   "id": "79c08e80",
   "metadata": {},
   "outputs": [
    {
     "name": "stdout",
     "output_type": "stream",
     "text": [
      "\n",
      "📏 Running MZ-score evaluation for anomaly type 2\n"
     ]
    },
    {
     "name": "stderr",
     "output_type": "stream",
     "text": [
      "Evaluating MZ for Anomaly Type 2: 100%|██████████| 1553/1553 [02:01<00:00, 12.74it/s]\n"
     ]
    },
    {
     "name": "stdout",
     "output_type": "stream",
     "text": [
      "✅ Saved results to bdg2_mz_scores/mz_type2_scores.csv\n",
      "\n",
      "📏 Running MZ-score evaluation for anomaly type 3\n"
     ]
    },
    {
     "name": "stderr",
     "output_type": "stream",
     "text": [
      "Evaluating MZ for Anomaly Type 3: 100%|██████████| 1553/1553 [02:28<00:00, 10.45it/s]\n"
     ]
    },
    {
     "name": "stdout",
     "output_type": "stream",
     "text": [
      "✅ Saved results to bdg2_mz_scores/mz_type3_scores.csv\n",
      "\n",
      "📏 Running MZ-score evaluation for anomaly type 4\n"
     ]
    },
    {
     "name": "stderr",
     "output_type": "stream",
     "text": [
      "Evaluating MZ for Anomaly Type 4: 100%|██████████| 1553/1553 [02:17<00:00, 11.30it/s]"
     ]
    },
    {
     "name": "stdout",
     "output_type": "stream",
     "text": [
      "✅ Saved results to bdg2_mz_scores/mz_type4_scores.csv\n"
     ]
    },
    {
     "name": "stderr",
     "output_type": "stream",
     "text": [
      "\n"
     ]
    }
   ],
   "source": [
    "# Base path to folders like TYPE2/, TYPE3/, etc.\n",
    "base_injected_path = \"/data1/home/nitinvetcha/Ashwin_KM_Code/tsfm_learning/Anomaly_Injection_IISc/injection_code/src/OUTPUT_BDG2/MODIFIED\"\n",
    "\n",
    "# Run mz evaluation for all anomaly types\n",
    "run_mz_evaluation_for_all_anomaly_types(\n",
    "    base_path=base_injected_path,\n",
    "    anomaly_types=[2, 3, 4],\n",
    "    output_dir=\"bdg2_mz_scores\"\n",
    ")"
   ]
  },
  {
   "cell_type": "code",
   "execution_count": 6,
   "id": "fc61dd36",
   "metadata": {},
   "outputs": [],
   "source": [
    "def plot_and_save_score_boxplots(\n",
    "    score_dir: str,\n",
    "    output_dir: str = \"plots\",\n",
    "    anomaly_types: list = [2, 3, 4],\n",
    "    prefix: str = \"isoforest\"\n",
    ") -> None:\n",
    "    \"\"\"\n",
    "    Generate and save boxplots of F1, Precision, and Recall for each anomaly type.\n",
    "\n",
    "    Parameters\n",
    "    ----------\n",
    "    score_dir : str\n",
    "        Directory where the per-anomaly-type score CSVs are stored.\n",
    "    output_dir : str, default \"plots\"\n",
    "        Directory where plots will be saved.\n",
    "    anomaly_types : list of int, default [2, 3, 4]\n",
    "        List of anomaly types to plot.\n",
    "    prefix : str, default \"isoforest\"\n",
    "        Prefix used in the CSV filenames, e.g., \"isoforest_type2_scores.csv\".\n",
    "\n",
    "    Returns\n",
    "    -------\n",
    "    None\n",
    "    \"\"\"\n",
    "    os.makedirs(output_dir, exist_ok=True)\n",
    "\n",
    "    for anomaly_type in anomaly_types:\n",
    "        print(f\"\\n📊 Plotting results for anomaly type {anomaly_type}...\")\n",
    "\n",
    "        score_path = os.path.join(score_dir, f\"{prefix}_type{anomaly_type}_scores.csv\")\n",
    "        if not os.path.exists(score_path):\n",
    "            print(f\"⚠️ File not found: {score_path}\")\n",
    "            continue\n",
    "\n",
    "        df = pd.read_csv(score_path)\n",
    "\n",
    "        if df.empty or df[[\"f1_score\", \"precision\", \"recall\"]].isnull().all().all():\n",
    "            print(f\"⚠️ No valid score data for anomaly type {anomaly_type}. Skipping...\")\n",
    "            continue\n",
    "\n",
    "        # Prepare data\n",
    "        data = pd.DataFrame({\n",
    "            \"F1 Score\": df[\"f1_score\"],\n",
    "            \"Precision\": df[\"precision\"],\n",
    "            \"Recall\": df[\"recall\"]\n",
    "        })\n",
    "        data_melted = data.melt(var_name=\"Metric\", value_name=\"Score\")\n",
    "\n",
    "        # Plot\n",
    "        plt.figure(figsize=(10, 6))\n",
    "        sns.boxplot(data=data_melted, x=\"Metric\", y=\"Score\", palette=\"Set2\")\n",
    "        plt.title(f\"Distribution of F1, Precision, and Recall — Anomaly Type {anomaly_type}\")\n",
    "        plt.grid(True, linestyle='--', alpha=0.6)\n",
    "        plt.tight_layout()\n",
    "\n",
    "        out_path = os.path.join(output_dir, f\"{prefix}_boxplot_type{anomaly_type}.png\")\n",
    "        plt.savefig(out_path)\n",
    "        plt.close()\n",
    "\n",
    "        print(f\"✅ Saved boxplot to {out_path}\")"
   ]
  },
  {
   "cell_type": "code",
   "execution_count": 7,
   "id": "966bb2e2",
   "metadata": {},
   "outputs": [
    {
     "name": "stdout",
     "output_type": "stream",
     "text": [
      "\n",
      "📊 Plotting results for anomaly type 2...\n",
      "✅ Saved boxplot to bdg2_mz_plots/mz_boxplot_type2.png\n",
      "\n",
      "📊 Plotting results for anomaly type 3...\n",
      "✅ Saved boxplot to bdg2_mz_plots/mz_boxplot_type3.png\n",
      "\n",
      "📊 Plotting results for anomaly type 4...\n",
      "✅ Saved boxplot to bdg2_mz_plots/mz_boxplot_type4.png\n"
     ]
    }
   ],
   "source": [
    "# Plot and save boxplots for all anomaly types\n",
    "plot_and_save_score_boxplots(\n",
    "    score_dir=\"bdg2_mz_scores\",\n",
    "    output_dir=\"bdg2_mz_plots\",\n",
    "    anomaly_types=[2, 3, 4],\n",
    "    prefix=\"mz\"\n",
    ")"
   ]
  },
  {
   "cell_type": "code",
   "execution_count": null,
   "id": "55a64521",
   "metadata": {},
   "outputs": [],
   "source": []
  }
 ],
 "metadata": {
  "kernelspec": {
   "display_name": "tsfm_anomaly",
   "language": "python",
   "name": "python3"
  },
  "language_info": {
   "codemirror_mode": {
    "name": "ipython",
    "version": 3
   },
   "file_extension": ".py",
   "mimetype": "text/x-python",
   "name": "python",
   "nbconvert_exporter": "python",
   "pygments_lexer": "ipython3",
   "version": "3.10.16"
  }
 },
 "nbformat": 4,
 "nbformat_minor": 5
}
